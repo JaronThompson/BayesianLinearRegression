{
 "cells": [
  {
   "cell_type": "markdown",
   "metadata": {},
   "source": [
    "# Bayesian Linear Regression Tutorial"
   ]
  },
  {
   "cell_type": "markdown",
   "metadata": {},
   "source": [
    "This is a tutorial on implementing Bayesian linear regression. We will use methods described in \"Pattern Recognition and Machine Learning\" by Christopher Bishop on synthetic regression data. "
   ]
  },
  {
   "cell_type": "markdown",
   "metadata": {},
   "source": [
    "The true target variable is denoted as $t$, our model as $y(\\textbf{x}, \\textbf{w})$, and the prediction error as $\\epsilon$ \n",
    "\n",
    "$$ t = y(\\textbf{x}, \\textbf{w}) + \\epsilon $$\n",
    "\n",
    "We will assume that the prediction error is a zero mean Gaussian random variable with precision $\\beta$\n",
    "\n",
    "$$ \\epsilon \\sim \\mathcal{N}(0, \\beta^{-1}) $$\n",
    "\n",
    "Which allows us to define the predicted variable as a Gaussian random variable with precision $\\beta$ \n",
    "\n",
    "$$ t \\sim \\mathcal{N}(y(\\textbf{x}, \\textbf{w}), \\beta^{-1}) $$"
   ]
  },
  {
   "cell_type": "markdown",
   "metadata": {},
   "source": [
    "In this example, we will start by creating a synthetic data set using Scikit-learn's make_regression() with 100 features, 1 target variable, and 150 samples. Additionally, we will apply Gaussian noise to the output variable with a standard deviation of 10, which corresponds to a precision of $\\frac{1}{10^{2}}$ = .01.  "
   ]
  },
  {
   "cell_type": "code",
   "execution_count": 1,
   "metadata": {},
   "outputs": [],
   "source": [
    "import sklearn.datasets\n",
    "from LR import BLR\n",
    "from scipy.stats import linregress\n",
    "import matplotlib.pyplot as plt \n",
    "import numpy as np\n",
    "\n",
    "# number of samples\n",
    "NS = 150\n",
    "# number of features\n",
    "NF = 100 \n",
    "# define precision as beta\n",
    "noise = 10        # std deviation \n",
    "beta = 1/noise**2 # inverse variance \n",
    "\n",
    "X, y = sklearn.datasets.make_regression(n_samples=NS, n_features=NF, n_targets=1, noise=noise)"
   ]
  },
  {
   "cell_type": "markdown",
   "metadata": {},
   "source": [
    "Let's decompose our data set into training and testing data, setting aside 1/5 of the data for testing. "
   ]
  },
  {
   "cell_type": "code",
   "execution_count": 2,
   "metadata": {},
   "outputs": [],
   "source": [
    "N_train = int(.8*NS)\n",
    "\n",
    "X_train = X[:N_train, :] \n",
    "X_test = X[N_train:, :]\n",
    "Y_train = y[:N_train]\n",
    "Y_test = y[N_train:]"
   ]
  },
  {
   "cell_type": "markdown",
   "metadata": {},
   "source": [
    "Fit a Bayesian linear regression model and maximize evidence function"
   ]
  },
  {
   "cell_type": "code",
   "execution_count": 3,
   "metadata": {},
   "outputs": [
    {
     "name": "stdout",
     "output_type": "stream",
     "text": [
      "attempting to maximize evidence function\n",
      "0.003886006751459284\n",
      "0.010116876658165274\n"
     ]
    }
   ],
   "source": [
    "blr = BLR(X_train, Y_train, a=.005, b=beta, max_evidence=True)\n",
    "print(blr.a)\n",
    "print(blr.b)"
   ]
  },
  {
   "cell_type": "markdown",
   "metadata": {},
   "source": [
    "Make Predictions on test data "
   ]
  },
  {
   "cell_type": "code",
   "execution_count": 4,
   "metadata": {},
   "outputs": [],
   "source": [
    "Y, E = blr.predict(X_test)"
   ]
  },
  {
   "cell_type": "markdown",
   "metadata": {},
   "source": [
    "Plot Results! "
   ]
  },
  {
   "cell_type": "code",
   "execution_count": 5,
   "metadata": {
    "scrolled": false
   },
   "outputs": [
    {
     "data": {
      "image/png": "[encoded data removed]",
      "text/plain": [
       "<Figure size 432x288 with 1 Axes>"
      ]
     },
     "metadata": {},
     "output_type": "display_data"
    }
   ],
   "source": [
    "slope, intercept, r_value, p_value, std_err = linregress(Y_test, Y)\n",
    "plt.errorbar(Y_test, Y, linestyle='none', marker='o', yerr = E.diagonal()**.5, label='R = {:.3f}'.format(r_value))\n",
    "plt.legend()\n",
    "plt.show()"
   ]
  }
 ],
 "metadata": {
  "kernelspec": {
   "display_name": "Python 3",
   "language": "python",
   "name": "python3"
  },
  "language_info": {
   "codemirror_mode": {
    "name": "ipython",
    "version": 3
   },
   "file_extension": ".py",
   "mimetype": "text/x-python",
   "name": "python",
   "nbconvert_exporter": "python",
   "pygments_lexer": "ipython3",
   "version": "3.5.6"
  }
 },
 "nbformat": 4,
 "nbformat_minor": 2
}
