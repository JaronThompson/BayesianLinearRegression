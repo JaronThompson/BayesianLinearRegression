{
 "cells": [
  {
   "cell_type": "markdown",
   "metadata": {},
   "source": [
    "# Bayesian Linear Regression Tutorial"
   ]
  },
  {
   "cell_type": "markdown",
   "metadata": {},
   "source": [
    "This is a tutorial on implementing Bayesian linear regression. We will use methods described in \"Pattern Recognition and Machine Learning\" by Christopher Bishop on synthetic regression data. "
   ]
  },
  {
   "cell_type": "markdown",
   "metadata": {},
   "source": [
    "In this example, we will assume our model has zero mean Gaussian error with a precision $\\beta$ and we will use zero mean Gaussian priors on parameters with precision $\\alpha$. "
   ]
  },
  {
   "cell_type": "code",
   "execution_count": 1,
   "metadata": {},
   "outputs": [],
   "source": [
    "import numpy as np\n",
    "from scipy.stats import linregress\n",
    "import matplotlib.pyplot as plt\n",
    "# import Bayesian Linear Regression Class \n",
    "from LR import BLR "
   ]
  },
  {
   "cell_type": "markdown",
   "metadata": {},
   "source": [
    "Import Regression Data: "
   ]
  },
  {
   "cell_type": "code",
   "execution_count": 2,
   "metadata": {},
   "outputs": [],
   "source": [
    "# import data\n",
    "X = np.genfromtxt('data/features.csv')\n",
    "Y = np.genfromtxt('data/targets.csv')\n",
    "\n",
    "# define training and testing data sets\n",
    "N_samples, N_features = X.shape\n",
    "\n",
    "# randomly shuffle data set \n",
    "randargs = np.random.permutation(N_samples)\n",
    "X = X[randargs, :]\n",
    "Y = Y[randargs]\n",
    "\n",
    "N_train = int(.8*N_samples)\n",
    "\n",
    "X_train = X[:N_train, :] \n",
    "X_test = X[N_train:, :]\n",
    "Y_train = Y[:N_train]\n",
    "Y_test = Y[N_train:]"
   ]
  },
  {
   "cell_type": "markdown",
   "metadata": {},
   "source": [
    "Fit a Bayesian linear regression model and maximize evidence function"
   ]
  },
  {
   "cell_type": "code",
   "execution_count": 3,
   "metadata": {},
   "outputs": [
    {
     "name": "stdout",
     "output_type": "stream",
     "text": [
      "attempting to maximize evidence function\n",
      "0.0005321800081855187\n",
      "0.0027958263836325424\n"
     ]
    }
   ],
   "source": [
    "blr = BLR(X_train, Y_train, a=.0005, b=.001, max_evidence=True)\n",
    "print(blr.a)\n",
    "print(blr.b)"
   ]
  },
  {
   "cell_type": "markdown",
   "metadata": {},
   "source": [
    "Make Predictions on test data "
   ]
  },
  {
   "cell_type": "code",
   "execution_count": 4,
   "metadata": {},
   "outputs": [],
   "source": [
    "Y, E = blr.predict(X_test)"
   ]
  },
  {
   "cell_type": "markdown",
   "metadata": {},
   "source": [
    "Plot Results! "
   ]
  },
  {
   "cell_type": "code",
   "execution_count": 6,
   "metadata": {
    "scrolled": false
   },
   "outputs": [
    {
     "data": {
      "image/png": "[encoded data removed]",
      "text/plain": [
       "<Figure size 432x288 with 1 Axes>"
      ]
     },
     "metadata": {},
     "output_type": "display_data"
    }
   ],
   "source": [
    "slope, intercept, r_value, p_value, std_err = linregress(Y_test, Y)\n",
    "plt.errorbar(Y_test, Y, linestyle='none', marker='o', yerr = E.diagonal()**.5, label='R = {:.3f}'.format(r_value))\n",
    "plt.legend()\n",
    "plt.show()"
   ]
  }
 ],
 "metadata": {
  "kernelspec": {
   "display_name": "Python 3",
   "language": "python",
   "name": "python3"
  },
  "language_info": {
   "codemirror_mode": {
    "name": "ipython",
    "version": 3
   },
   "file_extension": ".py",
   "mimetype": "text/x-python",
   "name": "python",
   "nbconvert_exporter": "python",
   "pygments_lexer": "ipython3",
   "version": "3.5.6"
  }
 },
 "nbformat": 4,
 "nbformat_minor": 2
}
